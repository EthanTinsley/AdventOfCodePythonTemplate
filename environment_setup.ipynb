{
 "cells": [
  {
   "cell_type": "markdown",
   "metadata": {},
   "source": [
    "### Installing Dependencies \n",
    "\n",
    "this section will simply read your requirements.txt file and install any packages needed to run the project."
   ]
  },
  {
   "cell_type": "code",
   "execution_count": null,
   "metadata": {},
   "outputs": [],
   "source": [
    "%pip install -r requirements.txt\n",
    "%pip freeze"
   ]
  },
  {
   "cell_type": "markdown",
   "metadata": {},
   "source": [
    "### Setting up the aocd (Advent of Code Data) package\n",
    "\n",
    "to use the aocd package we need to store our session key in the environment variables of the kernel. You can do this manually by adding it to os.environ or auto-magically by storing it in a .env file at the base of your repo. You can get your session key from the cookies in your browser. \n",
    "\n",
    "\n",
    "aocd Documentation:\n",
    "- https://pypi.org/project/advent-of-code-data/\n",
    "\n",
    ".env example\n",
    "- https://pypi.org/project/advent-of-code-data/"
   ]
  },
  {
   "cell_type": "code",
   "execution_count": null,
   "metadata": {},
   "outputs": [],
   "source": [
    "import os \n",
    "\n",
    "session = 'Get this from the cookies in your advent of code browser'\n",
    "os.environ['AOC_SESSION'] = session\n"
   ]
  },
  {
   "cell_type": "code",
   "execution_count": null,
   "metadata": {},
   "outputs": [],
   "source": [
    "dotenv_filepath = os.path.join(os.getcwd(), '.env')\n",
    "\n",
    "if not os.path.exists(dotenv_filepath):\n",
    "    with open(dotenv_filepath, 'w') as file:\n",
    "        file.write(f'AOC_SESSION={session}')"
   ]
  },
  {
   "cell_type": "markdown",
   "metadata": {},
   "source": [
    "### Exploring the aocd Package \n",
    "\n",
    "this section is primarily just to showcase the aocd package. Feel free to ignore it and refer to the documentation. \n",
    "\n",
    "Documentation:\n",
    "- https://pypi.org/project/advent-of-code-data/"
   ]
  },
  {
   "cell_type": "code",
   "execution_count": null,
   "metadata": {},
   "outputs": [],
   "source": [
    "from aocd import data \n",
    "\n",
    "data"
   ]
  },
  {
   "cell_type": "code",
   "execution_count": null,
   "metadata": {},
   "outputs": [],
   "source": [
    "from aocd import get_data\n",
    "\n",
    "get_data(day=1, year=2024)"
   ]
  },
  {
   "cell_type": "code",
   "execution_count": null,
   "metadata": {},
   "outputs": [],
   "source": [
    "from aocd import submit \n"
   ]
  },
  {
   "cell_type": "markdown",
   "metadata": {},
   "source": [
    "### Bonus: Create a directory for each day of advent of code with starter code \n",
    "\n",
    "running the setup.py file will create placeholders for your advent of code solutions. It can be tailored to a specific day or generate all days in one go.\n",
    "\n",
    "to do so simply run the following command.\n",
    "\n",
    "```python setup.py --create_all```"
   ]
  },
  {
   "cell_type": "markdown",
   "metadata": {},
   "source": []
  }
 ],
 "metadata": {
  "kernelspec": {
   "display_name": ".venv",
   "language": "python",
   "name": "python3"
  },
  "language_info": {
   "codemirror_mode": {
    "name": "ipython",
    "version": 3
   },
   "file_extension": ".py",
   "mimetype": "text/x-python",
   "name": "python",
   "nbconvert_exporter": "python",
   "pygments_lexer": "ipython3",
   "version": "3.13.0"
  }
 },
 "nbformat": 4,
 "nbformat_minor": 2
}
